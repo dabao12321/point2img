{
 "cells": [
  {
   "cell_type": "code",
   "execution_count": 100,
   "metadata": {},
   "outputs": [],
   "source": [
    "import os\n",
    "import numpy as np\n",
    "from PIL import Image\n",
    "import random\n",
    "\n",
    "directory = \"data4\"\n",
    "# png_file = \"1_00000_0.png\"\n",
    "npy_masks = []\n",
    "pngs = []\n",
    "png_paths = []\n",
    "for png_file in os.listdir(directory):\n",
    "    if png_file.endswith(\".png\"): \n",
    "        path_png = os.path.join(directory, png_file)\n",
    "        path_npy = path_png[:-4] + \"_mask.npy\"\n",
    "        npy_mask = np.load(path_npy)\n",
    "        image_np = np.array(Image.open(path_png).convert(\"RGB\"))[:, :, :3]\n",
    "        npy_masks.append(npy_mask)\n",
    "        pngs.append(image_np)\n",
    "        png_paths.append(png_file)\n",
    "    else:\n",
    "        continue\n",
    "        pass"
   ]
  },
  {
   "cell_type": "code",
   "execution_count": 101,
   "metadata": {},
   "outputs": [
    {
     "name": "stdout",
     "output_type": "stream",
     "text": [
      "(480, 640, 1) 360\n",
      "4_00013_14.png\n"
     ]
    }
   ],
   "source": [
    "print(np.shape(npy_masks[1]), len(pngs))\n",
    "print(png_paths[0])"
   ]
  },
  {
   "cell_type": "code",
   "execution_count": 102,
   "metadata": {},
   "outputs": [],
   "source": [
    "directory = \"backgrounds\"\n",
    "size = (640, 480)\n",
    "backgrounds = []\n",
    "back_paths = []\n",
    "for png_file in os.listdir(directory):\n",
    "    if png_file.endswith(\".png\"): \n",
    "        path_png = os.path.join(directory, png_file)\n",
    "        background = Image.open(path_png).convert(\"RGB\").resize(size)\n",
    "        back_npy = np.asarray(background)[:, :, :3]\n",
    "        backgrounds.append(back_npy)\n",
    "        back_paths.append(png_file)\n",
    "    else:\n",
    "        continue\n",
    "        pass"
   ]
  },
  {
   "cell_type": "code",
   "execution_count": 103,
   "metadata": {},
   "outputs": [
    {
     "name": "stdout",
     "output_type": "stream",
     "text": [
      "5\n"
     ]
    }
   ],
   "source": [
    "print(len(backgrounds))"
   ]
  },
  {
   "cell_type": "code",
   "execution_count": 104,
   "metadata": {},
   "outputs": [],
   "source": [
    "size = (480, 640)\n",
    "new_dir = \"data4_w_backgrounds\"\n",
    "for i in range(len(pngs)):\n",
    "    mask = npy_masks[i]\n",
    "    png = pngs[i]\n",
    "    png_path = png_paths[i]\n",
    "    randint = random.randrange(len(backgrounds))\n",
    "    back_npy = backgrounds[randint]\n",
    "    back_path = back_paths[randint]\n",
    "    for w in range(size[0]):\n",
    "        for l in range(size[1]):\n",
    "            if mask[w][l][0] == 0:\n",
    "                png[w][l][0] = back_npy[w][l][0]\n",
    "                png[w][l][1] = back_npy[w][l][1]\n",
    "                png[w][l][2] = back_npy[w][l][2]\n",
    "    new_png_img = Image.fromarray(png, 'RGB')\n",
    "    new_path = os.path.join(new_dir, png_path[:-4] + \"_w_\" + back_path)\n",
    "    new_png_img.save(new_path)\n",
    "    np.save(new_path[:-4] + \"_mask.npy\", mask)"
   ]
  },
  {
   "cell_type": "code",
   "execution_count": null,
   "metadata": {},
   "outputs": [],
   "source": []
  }
 ],
 "metadata": {
  "kernelspec": {
   "display_name": "Python 3",
   "language": "python",
   "name": "python3"
  },
  "language_info": {
   "codemirror_mode": {
    "name": "ipython",
    "version": 3
   },
   "file_extension": ".py",
   "mimetype": "text/x-python",
   "name": "python",
   "nbconvert_exporter": "python",
   "pygments_lexer": "ipython3",
   "version": "3.7.4"
  }
 },
 "nbformat": 4,
 "nbformat_minor": 2
}
